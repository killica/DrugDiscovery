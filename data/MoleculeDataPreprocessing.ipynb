{
 "cells": [
  {
   "cell_type": "code",
   "execution_count": 20,
   "id": "c70378a0-cb5c-4094-b25f-88ac836bda7d",
   "metadata": {},
   "outputs": [],
   "source": [
    "import pandas as pd\n",
    "import json"
   ]
  },
  {
   "cell_type": "code",
   "execution_count": 21,
   "id": "dc742611-3665-4011-b625-a52b492e568b",
   "metadata": {},
   "outputs": [],
   "source": [
    "df = pd.read_csv('Kinase_final_data.csv')"
   ]
  },
  {
   "cell_type": "code",
   "execution_count": 22,
   "id": "8de1d5fe-03ac-4294-b9d3-3364cb681ec7",
   "metadata": {},
   "outputs": [
    {
     "data": {
      "text/plain": [
       "21441"
      ]
     },
     "execution_count": 22,
     "metadata": {},
     "output_type": "execute_result"
    }
   ],
   "source": [
    "len(df)\n"
   ]
  },
  {
   "cell_type": "code",
   "execution_count": 23,
   "id": "8f8b7441-7c93-4a78-8f65-e4a500299c54",
   "metadata": {},
   "outputs": [],
   "source": [
    "df = df[df['class'] == 'active']"
   ]
  },
  {
   "cell_type": "code",
   "execution_count": 24,
   "id": "ac430896-2041-4511-978b-dadc9d0d2da1",
   "metadata": {},
   "outputs": [],
   "source": [
    "df = df[['canonical_smiles', 'molecule_chembl_id']]\n",
    "df = df.sample(n = 100, random_state = 40)\n",
    "df.columns = ['SMILES', 'Description']\n",
    "json_data = df.to_dict(orient = 'records')"
   ]
  },
  {
   "cell_type": "code",
   "execution_count": 25,
   "id": "027890c3-d299-4de1-9ee2-bbff3d68bfb5",
   "metadata": {},
   "outputs": [],
   "source": [
    "json_file = 'molecules.json'\n",
    "with open(json_file, 'w') as file:\n",
    "    json.dump(json_data, file, indent = 4)"
   ]
  },
  {
   "cell_type": "code",
   "execution_count": null,
   "id": "3c4b2ce4-6507-45a0-afa0-511233561196",
   "metadata": {},
   "outputs": [],
   "source": []
  },
  {
   "cell_type": "code",
   "execution_count": null,
   "id": "8766f89f-799d-415e-999a-d7bc623ff3ae",
   "metadata": {},
   "outputs": [],
   "source": []
  }
 ],
 "metadata": {
  "kernelspec": {
   "display_name": "Python 3 (ipykernel)",
   "language": "python",
   "name": "python3"
  },
  "language_info": {
   "codemirror_mode": {
    "name": "ipython",
    "version": 3
   },
   "file_extension": ".py",
   "mimetype": "text/x-python",
   "name": "python",
   "nbconvert_exporter": "python",
   "pygments_lexer": "ipython3",
   "version": "3.8.10"
  }
 },
 "nbformat": 4,
 "nbformat_minor": 5
}
